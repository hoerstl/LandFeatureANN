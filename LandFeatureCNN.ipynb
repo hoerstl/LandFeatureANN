{
 "cells": [
  {
   "cell_type": "markdown",
   "id": "d7770d26-ecc4-42b9-aef1-b6e2b4434acd",
   "metadata": {},
   "source": [
    "<h1>Land Feature CNN</h1>\n",
    "\n",
    "Code and network framework gathered from:\n",
    "https://www.tensorflow.org/tutorials/images/cnn\n",
    "\n",
    "Authors:\n",
    "- Thao Pham\n",
    "- Lawrence Hoerst\n"
   ]
  },
  {
   "cell_type": "code",
   "execution_count": 4,
   "id": "6d0d98a4-52e2-4209-9bd6-58a856721948",
   "metadata": {},
   "outputs": [
    {
     "name": "stdout",
     "output_type": "stream",
     "text": [
      "2.10.0\n"
     ]
    }
   ],
   "source": [
    "# import tensorflow\n",
    "import tensorflow as tf \n",
    "\n",
    "# import libraries\n",
    "import numpy as np\n",
    "import matplotlib.pyplot as plt \n",
    "from PIL import Image\n",
    "\n",
    "# list files in a directory\n",
    "import os\n",
    "\n",
    "print(tf.__version__)"
   ]
  },
  {
   "cell_type": "code",
   "execution_count": 2,
   "id": "49f28bee-41b6-4438-b8da-636f9188e167",
   "metadata": {},
   "outputs": [],
   "source": [
    "def images_processing(images_path):\n",
    "\n",
    "    images_array = []\n",
    "\n",
    "    # Load images:\n",
    "    for train_image_name in os.listdir(images_path):\n",
    "\n",
    "        # concatenate directory paths with filenames or additional directories that is correct for the host operating system\n",
    "        images_join_path = os.path.join(images_path, train_image_name)\n",
    "\n",
    "        # open images:\n",
    "        train_image = Image.open(images_join_path)\n",
    "\n",
    "        # Resize images:\n",
    "        train_image = train_image.resize((200,200))\n",
    "\n",
    "        # Convert images to numpy array:\n",
    "        # Each pixel will have three values corresponding to the RGB channels:\n",
    "        train_image_np = np.array(train_image)\n",
    "\n",
    "        # normalize the pixel values between 0 and 1:\n",
    "        train_image_np = train_image_np / 255.0\n",
    "        images_array.append(train_image_np)\n",
    "    \n",
    "    return np.array(images_array)"
   ]
  },
  {
   "cell_type": "code",
   "execution_count": 3,
   "id": "624ba345-7669-48be-8ee8-347406a0f816",
   "metadata": {},
   "outputs": [
    {
     "ename": "ValueError",
     "evalue": "setting an array element with a sequence. The requested array has an inhomogeneous shape after 3 dimensions. The detected shape was (20, 200, 200) + inhomogeneous part.",
     "output_type": "error",
     "traceback": [
      "\u001b[1;31m---------------------------------------------------------------------------\u001b[0m",
      "\u001b[1;31mValueError\u001b[0m                                Traceback (most recent call last)",
      "Cell \u001b[1;32mIn[3], line 20\u001b[0m\n\u001b[0;32m     17\u001b[0m     plt\u001b[38;5;241m.\u001b[39mshow()\n\u001b[0;32m     19\u001b[0m \u001b[38;5;28;01mif\u001b[39;00m \u001b[38;5;18m__name__\u001b[39m \u001b[38;5;241m==\u001b[39m \u001b[38;5;124m\"\u001b[39m\u001b[38;5;124m__main__\u001b[39m\u001b[38;5;124m\"\u001b[39m:\n\u001b[1;32m---> 20\u001b[0m     \u001b[43mmain\u001b[49m\u001b[43m(\u001b[49m\u001b[43m)\u001b[49m\n",
      "Cell \u001b[1;32mIn[3], line 3\u001b[0m, in \u001b[0;36mmain\u001b[1;34m()\u001b[0m\n\u001b[0;32m      1\u001b[0m \u001b[38;5;28;01mdef\u001b[39;00m \u001b[38;5;21mmain\u001b[39m():\n\u001b[0;32m      2\u001b[0m     images_path \u001b[38;5;241m=\u001b[39m \u001b[38;5;124mr\u001b[39m\u001b[38;5;124m'\u001b[39m\u001b[38;5;124mC:\u001b[39m\u001b[38;5;124m\\\u001b[39m\u001b[38;5;124mUsers\u001b[39m\u001b[38;5;124m\\\u001b[39m\u001b[38;5;124mphamt2\u001b[39m\u001b[38;5;124m\\\u001b[39m\u001b[38;5;124mANNproject\u001b[39m\u001b[38;5;124m\\\u001b[39m\u001b[38;5;124mLandFeatureANN\u001b[39m\u001b[38;5;124m\\\u001b[39m\u001b[38;5;124mcolored_images\u001b[39m\u001b[38;5;124m'\u001b[39m\n\u001b[1;32m----> 3\u001b[0m     images_array \u001b[38;5;241m=\u001b[39m \u001b[43mimages_processing\u001b[49m\u001b[43m(\u001b[49m\u001b[43mimages_path\u001b[49m\u001b[43m)\u001b[49m\n\u001b[0;32m      5\u001b[0m     \u001b[38;5;66;03m# Class names to plot the images:\u001b[39;00m\n\u001b[0;32m      6\u001b[0m     class_names \u001b[38;5;241m=\u001b[39m [\u001b[38;5;124m'\u001b[39m\u001b[38;5;124mWater\u001b[39m\u001b[38;5;124m'\u001b[39m, \u001b[38;5;124m'\u001b[39m\u001b[38;5;124mBuildings\u001b[39m\u001b[38;5;124m'\u001b[39m, \u001b[38;5;124m'\u001b[39m\u001b[38;5;124mRoads\u001b[39m\u001b[38;5;124m'\u001b[39m, \u001b[38;5;124m'\u001b[39m\u001b[38;5;124mFoliage\u001b[39m\u001b[38;5;124m'\u001b[39m, \u001b[38;5;124m'\u001b[39m\u001b[38;5;124mMineral deposits\u001b[39m\u001b[38;5;124m'\u001b[39m, \u001b[38;5;124m'\u001b[39m\u001b[38;5;124mMountainous terrain\u001b[39m\u001b[38;5;124m'\u001b[39m, \u001b[38;5;124m'\u001b[39m\u001b[38;5;124mRocky terrain\u001b[39m\u001b[38;5;124m'\u001b[39m, \u001b[38;5;124m'\u001b[39m\u001b[38;5;124mSandy terrain\u001b[39m\u001b[38;5;124m'\u001b[39m, \u001b[38;5;124m'\u001b[39m\u001b[38;5;124mPlains\u001b[39m\u001b[38;5;124m'\u001b[39m, \u001b[38;5;124m'\u001b[39m\u001b[38;5;124mSnow\u001b[39m\u001b[38;5;124m'\u001b[39m, \u001b[38;5;124m'\u001b[39m\u001b[38;5;124mGrass\u001b[39m\u001b[38;5;124m'\u001b[39m]\n",
      "Cell \u001b[1;32mIn[2], line 25\u001b[0m, in \u001b[0;36mimages_processing\u001b[1;34m(images_path)\u001b[0m\n\u001b[0;32m     22\u001b[0m     train_image_np \u001b[38;5;241m=\u001b[39m train_image_np \u001b[38;5;241m/\u001b[39m \u001b[38;5;241m255.0\u001b[39m\n\u001b[0;32m     23\u001b[0m     images_array\u001b[38;5;241m.\u001b[39mappend(train_image_np)\n\u001b[1;32m---> 25\u001b[0m \u001b[38;5;28;01mreturn\u001b[39;00m \u001b[43mnp\u001b[49m\u001b[38;5;241;43m.\u001b[39;49m\u001b[43marray\u001b[49m\u001b[43m(\u001b[49m\u001b[43mimages_array\u001b[49m\u001b[43m)\u001b[49m\n",
      "\u001b[1;31mValueError\u001b[0m: setting an array element with a sequence. The requested array has an inhomogeneous shape after 3 dimensions. The detected shape was (20, 200, 200) + inhomogeneous part."
     ]
    }
   ],
   "source": [
    "def main():\n",
    "    images_path = r'C:\\Users\\phamt2\\ANNproject\\LandFeatureANN\\colored_images'\n",
    "    images_array = images_processing(images_path)\n",
    "\n",
    "    # Class names to plot the images:\n",
    "    class_names = ['Water', 'Buildings', 'Roads', 'Foliage', 'Mineral deposits', 'Mountainous terrain', 'Rocky terrain', 'Sandy terrain', 'Plains', 'Snow', 'Grass']\n",
    "\n",
    "    # Display the first 25 images from the training set to verify the data:\n",
    "    plt.figure(figsize=(10,10))\n",
    "    for i in range(10):\n",
    "        plt.subplot(5,5, i+1)\n",
    "        plt.xticks([])\n",
    "        plt.yticks([])\n",
    "        plt.grid(False)\n",
    "        plt.imshow(images_array[i], cmap=plt.cm.binary)\n",
    "        plt.xlabel(class_names[0]) # not sure yet\n",
    "    plt.show()\n",
    "\n",
    "if __name__ == \"__main__\":\n",
    "    main()"
   ]
  },
  {
   "cell_type": "code",
   "execution_count": null,
   "id": "37c1fbe1-79b8-4a23-8515-9c4513bb1529",
   "metadata": {},
   "outputs": [],
   "source": []
  }
 ],
 "metadata": {
  "kernelspec": {
   "display_name": "Python 3 (ipykernel)",
   "language": "python",
   "name": "python3"
  },
  "language_info": {
   "codemirror_mode": {
    "name": "ipython",
    "version": 3
   },
   "file_extension": ".py",
   "mimetype": "text/x-python",
   "name": "python",
   "nbconvert_exporter": "python",
   "pygments_lexer": "ipython3",
   "version": "3.10.13"
  }
 },
 "nbformat": 4,
 "nbformat_minor": 5
}
