{
 "cells": [
  {
   "cell_type": "markdown",
   "id": "d7770d26-ecc4-42b9-aef1-b6e2b4434acd",
   "metadata": {},
   "source": [
    "<h1>Land Feature CNN</h1>\n",
    "\n",
    "Code and network framework gathered from:\n",
    "https://www.tensorflow.org/tutorials/images/cnn\n",
    "\n",
    "Authors:\n",
    "- Thao Pham\n",
    "- Lawrence Hoerst\n"
   ]
  },
  {
   "cell_type": "code",
   "execution_count": null,
   "id": "242d12db",
   "metadata": {},
   "outputs": [],
   "source": [
    "import converter\n",
    "# This will load the colored images into np arrays and pickle them\n",
    "converter.main()"
   ]
  },
  {
   "cell_type": "code",
   "execution_count": 4,
   "id": "6d0d98a4-52e2-4209-9bd6-58a856721948",
   "metadata": {},
   "outputs": [
    {
     "name": "stdout",
     "output_type": "stream",
     "text": [
      "2.10.0\n"
     ]
    }
   ],
   "source": [
    "# Import tensorflow for the model\n",
    "import tensorflow as tf\n",
    "# Import matplotlib to show retults\n",
    "import matplotlib.pyplot as plt\n",
    "# Import pickle to read in training data\n",
    "import pickle"
   ]
  },
  {
   "cell_type": "code",
   "execution_count": null,
   "id": "5a1cb498",
   "metadata": {},
   "outputs": [],
   "source": [
    "# Class names to plot the images:\n",
    "class_names = ['Water', 'Buildings', 'Roads', 'Foliage', 'Mineral deposits', 'Mountainous terrain', 'Rocky terrain', 'Sandy terrain', 'Plains', 'Snow', 'Grass']\n",
    "class_colors = ['#0f5e9c', ('#f2f2f2', '#606060'), '#c4c4c4', '#3a5f0b', '#490e0e', '#5a7a4c', '#698287', '#f7ae64', '#c89e23', '#fffafa', '#7cfc00']\n",
    "class_codes = {class_names[i]: i for i in range(len(class_names))}\n",
    "\n",
    "# hex_to_rgb\n",
    "cvt = lambda hex: ImageColor.getcolor(hex, \"RGB\")\n",
    "colors_to_code = {cvt('#0f5e9c'): 0,\n",
    "                  cvt('#f2f2f2'): 1, cvt('#606060'): 1,\n",
    "                  cvt('#c4c4c4'): 2,\n",
    "                  cvt('#3a5f0b'): 3,\n",
    "                  cvt('#490e0e'): 4,\n",
    "                  cvt('#5a7a4c'): 5,\n",
    "                  cvt('#698287'): 6,\n",
    "                  cvt('#f7ae64'): 7,\n",
    "                  cvt('#c89e23'): 8,\n",
    "                  cvt('#fffafa'): 9,\n",
    "                  cvt('#7cfc00'): 10,\n",
    "                  'default':      11}"
   ]
  },
  {
   "cell_type": "code",
   "execution_count": 2,
   "id": "49f28bee-41b6-4438-b8da-636f9188e167",
   "metadata": {
    "collapsed": true
   },
   "outputs": [
    {
     "ename": "NameError",
     "evalue": "name 'models' is not defined",
     "output_type": "error",
     "traceback": [
      "\u001b[1;31m---------------------------------------------------------------------------\u001b[0m",
      "\u001b[1;31mNameError\u001b[0m                                 Traceback (most recent call last)",
      "Cell \u001b[1;32mIn[2], line 2\u001b[0m\n\u001b[0;32m      1\u001b[0m \u001b[38;5;66;03m# Instantiate the model\u001b[39;00m\n\u001b[1;32m----> 2\u001b[0m model \u001b[38;5;241m=\u001b[39m models\u001b[38;5;241m.\u001b[39mSequential()\n\u001b[0;32m      3\u001b[0m \u001b[38;5;66;03m# Add layers\u001b[39;00m\n\u001b[0;32m      4\u001b[0m \u001b[38;5;66;03m# We need to decide on how many layers we want\u001b[39;00m\n\u001b[0;32m      5\u001b[0m \u001b[38;5;66;03m# These parameters are not yet setup for our network\u001b[39;00m\n\u001b[0;32m      6\u001b[0m model\u001b[38;5;241m.\u001b[39madd(layers\u001b[38;5;241m.\u001b[39mConv2D(\u001b[38;5;241m32\u001b[39m, (\u001b[38;5;241m3\u001b[39m, \u001b[38;5;241m3\u001b[39m), activation\u001b[38;5;241m=\u001b[39m\u001b[38;5;124m'\u001b[39m\u001b[38;5;124mrelu\u001b[39m\u001b[38;5;124m'\u001b[39m, input_shape\u001b[38;5;241m=\u001b[39m(\u001b[38;5;241m200\u001b[39m, \u001b[38;5;241m200\u001b[39m, \u001b[38;5;241m3\u001b[39m)))\n",
      "\u001b[1;31mNameError\u001b[0m: name 'models' is not defined"
     ]
    }
   ],
   "source": [
    "# Instantiate the model\n",
    "model = models.Sequential()\n",
    "# Add layers\n",
    "# We need to decide on how many layers we want\n",
    "# These parameters are not yet setup for our network\n",
    "model.add(layers.Conv2D(32, (3, 3), activation='relu', input_shape=(200, 200, 3)))\n",
    "model.add(layers.MaxPooling2D((2, 2)))\n",
    "model.add(layers.Conv2D(64, (3, 3), activation='relu'))\n",
    "model.add(layers.MaxPooling2D((2, 2)))\n",
    "model.add(layers.Conv2D(64, (3, 3), activation='relu'))\n",
    "model.add(layers.Flatten())\n",
    "model.add(layers.Dense(200*200, activation='relu'))\n",
    "model.add(layers.Dense(200*200))\n",
    "model.compile(optimizer='adam',\n",
    "              loss=tf.keras.losses.SparseCategoricalCrossentropy(from_logits=True),\n",
    "              metrics=['accuracy'])"
   ]
  },
  {
   "cell_type": "code",
   "execution_count": 1,
   "id": "695f7719",
   "metadata": {
    "collapsed": true
   },
   "outputs": [
    {
     "ename": "NameError",
     "evalue": "name 'model' is not defined",
     "output_type": "error",
     "traceback": [
      "\u001b[1;31m---------------------------------------------------------------------------\u001b[0m",
      "\u001b[1;31mNameError\u001b[0m                                 Traceback (most recent call last)",
      "Cell \u001b[1;32mIn[1], line 1\u001b[0m\n\u001b[1;32m----> 1\u001b[0m \u001b[38;5;28mprint\u001b[39m(model\u001b[38;5;241m.\u001b[39msummary())\n",
      "\u001b[1;31mNameError\u001b[0m: name 'model' is not defined"
     ]
    }
   ],
   "source": [
    "print(model.summary())"
   ]
  },
  {
   "cell_type": "code",
   "execution_count": 3,
   "id": "624ba345-7669-48be-8ee8-347406a0f816",
   "metadata": {
    "collapsed": true
   },
   "outputs": [
    {
     "ename": "ValueError",
     "evalue": "setting an array element with a sequence. The requested array has an inhomogeneous shape after 3 dimensions. The detected shape was (20, 200, 200) + inhomogeneous part.",
     "output_type": "error",
     "traceback": [
      "\u001b[1;31m---------------------------------------------------------------------------\u001b[0m",
      "\u001b[1;31mValueError\u001b[0m                                Traceback (most recent call last)",
      "Cell \u001b[1;32mIn[3], line 20\u001b[0m\n\u001b[0;32m     17\u001b[0m     plt\u001b[38;5;241m.\u001b[39mshow()\n\u001b[0;32m     19\u001b[0m \u001b[38;5;28;01mif\u001b[39;00m \u001b[38;5;18m__name__\u001b[39m \u001b[38;5;241m==\u001b[39m \u001b[38;5;124m\"\u001b[39m\u001b[38;5;124m__main__\u001b[39m\u001b[38;5;124m\"\u001b[39m:\n\u001b[1;32m---> 20\u001b[0m     \u001b[43mmain\u001b[49m\u001b[43m(\u001b[49m\u001b[43m)\u001b[49m\n",
      "Cell \u001b[1;32mIn[3], line 3\u001b[0m, in \u001b[0;36mmain\u001b[1;34m()\u001b[0m\n\u001b[0;32m      1\u001b[0m \u001b[38;5;28;01mdef\u001b[39;00m \u001b[38;5;21mmain\u001b[39m():\n\u001b[0;32m      2\u001b[0m     images_path \u001b[38;5;241m=\u001b[39m \u001b[38;5;124mr\u001b[39m\u001b[38;5;124m'\u001b[39m\u001b[38;5;124mC:\u001b[39m\u001b[38;5;124m\\\u001b[39m\u001b[38;5;124mUsers\u001b[39m\u001b[38;5;124m\\\u001b[39m\u001b[38;5;124mphamt2\u001b[39m\u001b[38;5;124m\\\u001b[39m\u001b[38;5;124mANNproject\u001b[39m\u001b[38;5;124m\\\u001b[39m\u001b[38;5;124mLandFeatureANN\u001b[39m\u001b[38;5;124m\\\u001b[39m\u001b[38;5;124mcolored_images\u001b[39m\u001b[38;5;124m'\u001b[39m\n\u001b[1;32m----> 3\u001b[0m     images_array \u001b[38;5;241m=\u001b[39m \u001b[43mimages_processing\u001b[49m\u001b[43m(\u001b[49m\u001b[43mimages_path\u001b[49m\u001b[43m)\u001b[49m\n\u001b[0;32m      5\u001b[0m     \u001b[38;5;66;03m# Class names to plot the images:\u001b[39;00m\n\u001b[0;32m      6\u001b[0m     class_names \u001b[38;5;241m=\u001b[39m [\u001b[38;5;124m'\u001b[39m\u001b[38;5;124mWater\u001b[39m\u001b[38;5;124m'\u001b[39m, \u001b[38;5;124m'\u001b[39m\u001b[38;5;124mBuildings\u001b[39m\u001b[38;5;124m'\u001b[39m, \u001b[38;5;124m'\u001b[39m\u001b[38;5;124mRoads\u001b[39m\u001b[38;5;124m'\u001b[39m, \u001b[38;5;124m'\u001b[39m\u001b[38;5;124mFoliage\u001b[39m\u001b[38;5;124m'\u001b[39m, \u001b[38;5;124m'\u001b[39m\u001b[38;5;124mMineral deposits\u001b[39m\u001b[38;5;124m'\u001b[39m, \u001b[38;5;124m'\u001b[39m\u001b[38;5;124mMountainous terrain\u001b[39m\u001b[38;5;124m'\u001b[39m, \u001b[38;5;124m'\u001b[39m\u001b[38;5;124mRocky terrain\u001b[39m\u001b[38;5;124m'\u001b[39m, \u001b[38;5;124m'\u001b[39m\u001b[38;5;124mSandy terrain\u001b[39m\u001b[38;5;124m'\u001b[39m, \u001b[38;5;124m'\u001b[39m\u001b[38;5;124mPlains\u001b[39m\u001b[38;5;124m'\u001b[39m, \u001b[38;5;124m'\u001b[39m\u001b[38;5;124mSnow\u001b[39m\u001b[38;5;124m'\u001b[39m, \u001b[38;5;124m'\u001b[39m\u001b[38;5;124mGrass\u001b[39m\u001b[38;5;124m'\u001b[39m]\n",
      "Cell \u001b[1;32mIn[2], line 25\u001b[0m, in \u001b[0;36mimages_processing\u001b[1;34m(images_path)\u001b[0m\n\u001b[0;32m     22\u001b[0m     train_image_np \u001b[38;5;241m=\u001b[39m train_image_np \u001b[38;5;241m/\u001b[39m \u001b[38;5;241m255.0\u001b[39m\n\u001b[0;32m     23\u001b[0m     images_array\u001b[38;5;241m.\u001b[39mappend(train_image_np)\n\u001b[1;32m---> 25\u001b[0m \u001b[38;5;28;01mreturn\u001b[39;00m \u001b[43mnp\u001b[49m\u001b[38;5;241;43m.\u001b[39;49m\u001b[43marray\u001b[49m\u001b[43m(\u001b[49m\u001b[43mimages_array\u001b[49m\u001b[43m)\u001b[49m\n",
      "\u001b[1;31mValueError\u001b[0m: setting an array element with a sequence. The requested array has an inhomogeneous shape after 3 dimensions. The detected shape was (20, 200, 200) + inhomogeneous part."
     ]
    }
   ],
   "source": [
    "# unpickle our test data here\n",
    "with open('training_inputs.pickle', 'rb') as inputsFile:\n",
    "    training_inputs = pickle.load(inputsFile)\n",
    "with open('training_outputs.pickle', 'rb') as outputsFile:\n",
    "    training_outputs = pickle.load(outputsFile)\n",
    "    \n",
    "# TODO: unpickle the validation / testing outputs\n"
   ]
  },
  {
   "cell_type": "code",
   "execution_count": null,
   "id": "37c1fbe1-79b8-4a23-8515-9c4513bb1529",
   "metadata": {},
   "outputs": [],
   "source": [
    "# Train the model\n",
    "# TODO: We need to add our validation inputs/outputs here\n",
    "history = model.fit(training_inputs, training_outputs, epochs=10)"
   ]
  },
  {
   "cell_type": "code",
   "execution_count": null,
   "id": "3eaf6c85",
   "metadata": {},
   "outputs": [],
   "source": [
    "plt.plot(history.history['accuracy'], label='accuracy')\n",
    "plt.plot(history.history['val_accuracy'], label = 'val_accuracy')\n",
    "plt.xlabel('Epoch')\n",
    "plt.ylabel('Accuracy')\n",
    "plt.ylim([0.5, 1])\n",
    "plt.legend(loc='lower right')\n",
    "\n",
    "test_loss, test_acc = model.evaluate(test_images,  test_labels, verbose=2)"
   ]
  }
 ],
 "metadata": {
  "kernelspec": {
   "display_name": "Python 3 (ipykernel)",
   "language": "python",
   "name": "python3"
  },
  "language_info": {
   "codemirror_mode": {
    "name": "ipython",
    "version": 3
   },
   "file_extension": ".py",
   "mimetype": "text/x-python",
   "name": "python",
   "nbconvert_exporter": "python",
   "pygments_lexer": "ipython3",
   "version": "3.11.5"
  }
 },
 "nbformat": 4,
 "nbformat_minor": 5
}
