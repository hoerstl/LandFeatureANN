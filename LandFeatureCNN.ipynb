{
 "cells": [
  {
   "cell_type": "markdown",
   "id": "d7770d26-ecc4-42b9-aef1-b6e2b4434acd",
   "metadata": {},
   "source": [
    "<h1>Land Feature CNN</h1>\n",
    "\n",
    "Code and network framework gathered from:\n",
    "https://www.tensorflow.org/tutorials/images/cnn\n",
    "\n",
    "Authors:\n",
    "- Thao Pham\n",
    "- Lawrence Hoerst\n"
   ]
  },
  {
   "cell_type": "code",
   "execution_count": null,
   "id": "5aec64b6",
   "metadata": {},
   "outputs": [],
   "source": [
    "import theCropper\n",
    "theCropper.main()"
   ]
  },
  {
   "cell_type": "code",
   "execution_count": null,
   "id": "f8dceb16",
   "metadata": {},
   "outputs": [],
   "source": [
    "import theScaler\n",
    "theScaler.main()"
   ]
  },
  {
   "cell_type": "code",
   "execution_count": null,
   "id": "92c8be18",
   "metadata": {},
   "outputs": [],
   "source": [
    "import converter\n",
    "# This will load the colored images into np arrays and pickle them\n",
    "converter.main()"
   ]
  },
  {
   "cell_type": "code",
   "execution_count": null,
   "id": "6d0d98a4-52e2-4209-9bd6-58a856721948",
   "metadata": {},
   "outputs": [],
   "source": [
    "# Import tensorflow for the model\n",
    "import tensorflow as tf\n",
    "from tensorflow.keras import layers, models\n",
    "# Import matplotlib to show retults\n",
    "import matplotlib.pyplot as plt\n",
    "# Import numpy for data processing\n",
    "import numpy as np\n",
    "# Import from PIL\n",
    "from PIL import Image\n",
    "from PIL import ImageColor\n",
    "# Import pickle to read in training data\n",
    "import pickle\n",
    "# Import os to work with filepaths\n",
    "import os\n",
    "# Import time for sleep\n",
    "import time"
   ]
  },
  {
   "cell_type": "code",
   "execution_count": null,
   "id": "a0ce455c",
   "metadata": {},
   "outputs": [],
   "source": [
    "# Needs to be reordered to match the new order of the classes\n",
    "# # Class names to plot the images:\n",
    "# class_names = ['Water', 'Buildings', 'Roads', 'Foliage', 'Mineral deposits', 'Mountainous terrain', 'Rocky terrain', 'Sandy terrain', 'Plains', 'Snow', 'Grass']\n",
    "# class_colors = ['#0f5e9c', ('#f2f2f2', '#606060'), '#c4c4c4', '#3a5f0b', '#490e0e', '#5a7a4c', '#698287', '#f7ae64', '#c89e23', '#fffafa', '#7cfc00']\n",
    "# class_codes = {class_names[i]: i for i in range(len(class_names))}\n",
    "\n",
    "# # hex_to_rgb\n",
    "# cvt = lambda hex: ImageColor.getcolor(hex, \"RGB\")\n",
    "# colors_to_code = {cvt('#0f5e9c'): 0,\n",
    "#                   cvt('#f2f2f2'): 1, cvt('#606060'): 1,\n",
    "#                   cvt('#c4c4c4'): 2,\n",
    "#                   cvt('#3a5f0b'): 3,\n",
    "#                   cvt('#490e0e'): 4,\n",
    "#                   cvt('#5a7a4c'): 5,\n",
    "#                   cvt('#698287'): 6,\n",
    "#                   cvt('#f7ae64'): 7,\n",
    "#                   cvt('#c89e23'): 8,\n",
    "#                   cvt('#fffafa'): 9,\n",
    "#                   cvt('#7cfc00'): 10,\n",
    "#                   'default':      11}"
   ]
  },
  {
   "cell_type": "code",
   "execution_count": null,
   "id": "49f28bee-41b6-4438-b8da-636f9188e167",
   "metadata": {},
   "outputs": [],
   "source": [
    "# Instantiate the model\n",
    "model = models.Sequential()\n",
    "# Add layers\n",
    "# We need to decide on how many layers we want\n",
    "# These parameters are not yet setup for our network\n",
    "model.add(layers.InputLayer(shape=(*theScaler.scalingDimensions, 4)))\n",
    "model.add(layers.Conv2D(32, (3, 3), activation='sigmoid'))\n",
    "model.add(layers.MaxPooling2D((2, 2)))\n",
    "model.add(layers.Conv2D(64, (3, 3), activation='sigmoid'))\n",
    "model.add(layers.MaxPooling2D((2, 2)))\n",
    "model.add(layers.Conv2D(64, (3, 3), activation='sigmoid'))\n",
    "model.add(layers.Flatten())\n",
    "model.add(layers.Dense(theScaler.scalingDimensions[0] * theScaler.scalingDimensions[1], activation='sigmoid'))\n",
    "model.add(layers.Dense(theScaler.scalingDimensions[0] * theScaler.scalingDimensions[1], activation='sigmoid'))\n",
    "model.add(layers.Reshape((*theScaler.scalingDimensions, 1))) # Make output in the same shape as a classification image\n",
    "model.compile(optimizer='adam',\n",
    "              loss=tf.keras.losses.MeanSquaredError(),\n",
    "              metrics=[tf.keras.metrics.MeanAbsoluteError(name=\"accuracy\")])"
   ]
  },
  {
   "cell_type": "code",
   "execution_count": null,
   "id": "3cc4f9d3",
   "metadata": {},
   "outputs": [],
   "source": [
    "print(\"Shape of input: \",(*theScaler.scalingDimensions, 4))\n",
    "print(model.summary())"
   ]
  },
  {
   "cell_type": "code",
   "execution_count": null,
   "id": "624ba345-7669-48be-8ee8-347406a0f816",
   "metadata": {},
   "outputs": [],
   "source": [
    "# unpickle our test data here\n",
    "input_sizing = lambda array: [np.reshape(value, (-1, *theScaler.scalingDimensions, 4)) for value in array]\n",
    "output_sizing = lambda array: [np.reshape(value, (-1, *theScaler.scalingDimensions, 1)) for value in array]\n",
    "resize = False\n",
    "with open('training_inputs.pickle', 'rb') as inputsFile:\n",
    "    training_inputs = pickle.load(inputsFile)\n",
    "    if resize: training_inputs = input_sizing(training_inputs)\n",
    "with open('training_outputs.pickle', 'rb') as outputsFile:\n",
    "    training_outputs = pickle.load(outputsFile)\n",
    "    if resize: training_outputs = output_sizing(training_outputs)\n",
    "\n",
    "# unpickle the validation / testing outputs\n",
    "with open('validation_inputs.pickle', 'rb') as inputsFile:\n",
    "    validation_inputs = pickle.load(inputsFile)\n",
    "    if resize: validation_inputs = input_sizing(validation_inputs)\n",
    "with open('validation_outputs.pickle', 'rb') as outputsFile:\n",
    "    validation_outputs = pickle.load(outputsFile)\n",
    "    if resize: validation_outputs = output_sizing(validation_outputs)\n",
    "\n",
    "print_data = lambda func: print(f\"training inputs: {func(training_inputs)}, training outputs: {func(training_outputs)}, validation inputs: {func(validation_inputs)}, and validation outputs: {func(validation_outputs)}\")\n",
    "print_data(len)\n",
    "print_data(lambda e: e[0].shape)\n",
    "\n"
   ]
  },
  {
   "cell_type": "code",
   "execution_count": null,
   "id": "535d32ba-b20c-460e-8e6f-b213297c6982",
   "metadata": {
    "scrolled": true
   },
   "outputs": [],
   "source": [
    "# Train the model\n",
    "history = model.fit(training_inputs, training_outputs, epochs=10, validation_data=(validation_inputs, validation_outputs))"
   ]
  },
  {
   "cell_type": "code",
   "execution_count": null,
   "id": "666dbc69",
   "metadata": {},
   "outputs": [],
   "source": [
    "\n",
    "plt.plot(history.history['accuracy'], label='accuracy')\n",
    "plt.plot(history.history['val_accuracy'], label = 'val_accuracy')\n",
    "plt.xlabel('Epoch')\n",
    "plt.ylabel('Accuracy')\n",
    "plt.ylim([0, 1])\n",
    "plt.legend(loc='lower right')\n",
    "\n",
    "test_loss, test_acc = model.evaluate(validation_inputs,  validation_outputs, verbose=2)\n"
   ]
  },
  {
   "cell_type": "code",
   "execution_count": null,
   "id": "5a74d901",
   "metadata": {},
   "outputs": [],
   "source": [
    "def predict(np_array):\n",
    "    prediction = model.predict(np.reshape(np_array, (-1, *theScaler.scalingDimensions, 4)))\n",
    "    prediction = np.reshape(prediction, (*theScaler.scalingDimensions, 1))\n",
    "    prediction_decoded = converter.decode_image(prediction)\n",
    "    predicted_image = Image.fromarray(prediction_decoded)\n",
    "    predicted_image.show()\n",
    "    print(prediction)\n",
    "def displayImage(np_array):\n",
    "    image = Image.fromarray(np_array)\n",
    "    image.show()\n",
    "# displayImage(training_inputs[0])\n",
    "# predict(training_inputs[0])\n",
    "# time.sleep(5)\n",
    "# displayImage(training_inputs[1])\n",
    "# predict(training_inputs[1])\n",
    "# time.sleep(5)\n",
    "# displayImage(training_inputs[2])\n",
    "# predict(training_inputs[2])\n",
    "# time.sleep(5)\n",
    "print(training_outputs[42])"
   ]
  },
  {
   "cell_type": "code",
   "execution_count": null,
   "id": "e5671d9d",
   "metadata": {},
   "outputs": [],
   "source": []
  }
 ],
 "metadata": {
  "kernelspec": {
   "display_name": "LandFeatureANN",
   "language": "python",
   "name": "landfeatureann"
  },
  "language_info": {
   "codemirror_mode": {
    "name": "ipython",
    "version": 3
   },
   "file_extension": ".py",
   "mimetype": "text/x-python",
   "name": "python",
   "nbconvert_exporter": "python",
   "pygments_lexer": "ipython3",
   "version": "3.9.5"
  }
 },
 "nbformat": 4,
 "nbformat_minor": 5
}
